{
  "cells": [
    {
      "cell_type": "markdown",
      "metadata": {
        "id": "7EWcJTl8Qbca"
      },
      "source": [
        "# Prepare Dataset"
      ]
    },
    {
      "cell_type": "code",
      "execution_count": null,
      "metadata": {
        "id": "KGTEOgC-Qbcb"
      },
      "outputs": [],
      "source": [
        "import matplotlib.pyplot as plt\n",
        "from torch.utils.data import Dataset, DataLoader\n",
        "from datetime import datetime, timedelta\n",
        "from sklearn.preprocessing import StandardScaler, OneHotEncoder\n",
        "from sklearn.compose import ColumnTransformer\n",
        "from sklearn.pipeline import Pipeline\n",
        "import torch.optim as optim\n",
        "import torch\n",
        "import torch.nn as nn\n",
        "import numpy as np\n",
        "import pandas as pd\n",
        "import xgboost as xgb\n",
        "import os\n",
        "from sklearn.metrics import mean_squared_error, mean_absolute_error"
      ]
    },
    {
      "cell_type": "code",
      "execution_count": null,
      "metadata": {
        "id": "GDvvwNegQbcc"
      },
      "outputs": [],
      "source": []
    },
    {
      "cell_type": "code",
      "execution_count": null,
      "metadata": {
        "colab": {
          "base_uri": "https://localhost:8080/"
        },
        "id": "jXgbDQQDQbcc",
        "outputId": "41babdc1-f921-4d53-cd86-fcf4e02ace0c"
      },
      "outputs": [
        {
          "output_type": "stream",
          "name": "stdout",
          "text": [
            "cuda\n"
          ]
        }
      ],
      "source": [
        "device = torch.device(\"cuda\" if torch.cuda.is_available() else \"cpu\")\n",
        "print(device)"
      ]
    },
    {
      "cell_type": "code",
      "execution_count": null,
      "metadata": {
        "id": "Dn9UkZRSQbcd"
      },
      "outputs": [],
      "source": [
        "def merge_datasets(flight_path=\"2016.csv\", weather_path=\"2016_weather.csv\") -> tuple:\n",
        "    flight_df = pd.read_csv(flight_path)\n",
        "    weather_df = pd.read_csv(weather_path)\n",
        "\n",
        "    # self._preprocess_datetime()\n",
        "\n",
        "    # Merge the two dataframes on the date and time columns\n",
        "    merged_df = pd.merge(flight_df, weather_df, how='right', on=[\"Rounded Datetime\", \"Air Temperature\", \"Dew Temperature\", \"Sea Level Pressure\", \"Wind Direction\", \"Wind Speed Rate\", \"Precip 1 Hour\", \"Sky Condition\"])\n",
        "\n",
        "    return merged_df"
      ]
    },
    {
      "cell_type": "markdown",
      "metadata": {
        "id": "ceTi3WI4Qbcd"
      },
      "source": [
        "## The Goal\n",
        "\n",
        "Design an AI, which:\n",
        "\n",
        "- Receives as inputs a sequence of weather features (a step further from the original just temperature of HW3)\n",
        "\n",
        "- Outputs the predicted delay"
      ]
    },
    {
      "cell_type": "code",
      "execution_count": null,
      "metadata": {
        "id": "jcWLoQRmQbcd"
      },
      "outputs": [],
      "source": [
        "class CustomFlightDataset(Dataset):\n",
        "    def __init__(self, flight_csv, weather_csv, hours_before=5, transform=None, target_col='Departure Delay (Minutes)', test_size=0.0, random_state=42):\n",
        "        self.hours_before = hours_before\n",
        "        self.transform = transform\n",
        "        self.target_col = target_col\n",
        "\n",
        "        self.flight_df = pd.read_csv(flight_csv)\n",
        "        self.weather_df = pd.read_csv(weather_csv)\n",
        "\n",
        "        print(f\"csv size:{len(self.flight_df)} and {len(self.weather_df)}\")\n",
        "        self._preprocess_datetime()\n",
        "\n",
        "        self.data = self._create_combined_dataset() # Create combined dataset with time-window features\n",
        "\n",
        "\n",
        "        self.data = self.data.dropna()\n",
        "\n",
        "\n",
        "        if len(self.data) == 0:\n",
        "            raise Valueerror(\"No valid data after combining flight and weather data. Check datetime alignment\")\n",
        "\n",
        "        self.features = self.data.drop([target_col], axis=1) # Drop column\n",
        "        self.targets = self.data[target_col].values\n",
        "\n",
        "        self._process_features()\n",
        "\n",
        "        if test_size > 0:\n",
        "            self._train_test_split(test_size, random_state)\n",
        "\n",
        "    def _preprocess_datetime(self):\n",
        "        \"\"\"Preprocess datetime columns\"\"\"\n",
        "        self.flight_df['Scheduled Departure Datetime'] = pd.to_datetime(self.flight_df['Scheduled Departure Datetime'])\n",
        "        self.flight_df['Rounded Datetime'] = pd.to_datetime(self.flight_df['Rounded Datetime'])\n",
        "        self.weather_df['Rounded Datetime'] = pd.to_datetime(self.weather_df['Rounded Datetime'])\n",
        "\n",
        "        self.weather_df = self.weather_df.sort_values('Rounded Datetime')\n",
        "        print(f\"csv size post datetime preprocess:{len(self.flight_df)} and {len(self.weather_df)}\")\n",
        "\n",
        "    def _extract_weather_features(self, departure_datetime):\n",
        "\n",
        "        start_time = departure_datetime - timedelta(hours=self.hours_before)\n",
        "\n",
        "        weather_window = self.weather_df[\n",
        "            (self.weather_df['Rounded Datetime'] >= start_time) &\n",
        "            (self.weather_df['Rounded Datetime'] <= departure_datetime)\n",
        "        ] # never knew you can filter like this\n",
        "\n",
        "        if len(weather_window) == 0:\n",
        "            return None\n",
        "\n",
        "        weather_cols = ['Air Temperature', 'Dew Temperature', 'Sea Level Pressure',\n",
        "                       'Wind Direction', 'Wind Speed Rate', 'Precip 1 Hour']\n",
        "\n",
        "        weather_features = {}\n",
        "        for col in weather_cols:\n",
        "            if col != 'Sky Condition':\n",
        "                weather_features[f\"{col}_mean\"] = weather_window[col].mean()\n",
        "                weather_features[f\"{col}_max\"] = weather_window[col].max()\n",
        "                weather_features[f\"{col}_min\"] = weather_window[col].min()\n",
        "                weather_features[f\"{col}_std\"] = weather_window[col].std()\n",
        "\n",
        "        if 'Sky Condition' in weather_window.columns:\n",
        "            weather_features['Sky Condition'] = weather_window['Sky Condition'].mode()[0]\n",
        "\n",
        "        return weather_features\n",
        "\n",
        "    def _create_combined_dataset(self):\n",
        "        combined_data = []\n",
        "\n",
        "        for _, flight in self.flight_df.iterrows():\n",
        "\n",
        "            weather_features = self._extract_weather_features(flight['Scheduled Departure Datetime'])\n",
        "            if weather_features is None:\n",
        "                continue\n",
        "\n",
        "            flight_features = {\n",
        "                'Carrier_Code': flight['Carrier Code'],\n",
        "                    'Flight_Number': float(flight['Flight Number']),\n",
        "                    'Destination_Airport': flight['Destination Airport'],\n",
        "                    'Hour_of_Day': flight['Scheduled Departure Datetime'].hour,\n",
        "                    'Day_of_Week': flight['Scheduled Departure Datetime'].dayofweek,\n",
        "                    'Month': flight['Scheduled Departure Datetime'].month\n",
        "            }\n",
        "\n",
        "            combined_row = {\n",
        "                **flight_features,\n",
        "                **weather_features,\n",
        "                self.target_col: flight[self.target_col]\n",
        "            }\n",
        "\n",
        "            combined_data.append(combined_row)\n",
        "\n",
        "        return pd.DataFrame(combined_data)\n",
        "\n",
        "    def _process_features(self):\n",
        "\n",
        "        categorical_cols = ['Carrier Code', 'Destination Airport', 'Sky Condition']\n",
        "        categorical_cols = [col for col in categorical_cols if col in self.features.columns]\n",
        "\n",
        "        numerical_cols = [col for col in self.features.columns if col not in categorical_cols and pd.api.types.is_numeric_dtype(self.features[col])]\n",
        "\n",
        "        transformers = []\n",
        "\n",
        "        if numerical_cols:\n",
        "            numerical_transformer = Pipeline(steps=[\n",
        "                ('scaler', StandardScaler())\n",
        "            ])\n",
        "            transformers.append(('num', numerical_transformer, numerical_cols))\n",
        "\n",
        "        if categorical_cols:\n",
        "            categorical_transformer = Pipeline(steps=[\n",
        "                ('onehot', OneHotEncoder(handle_unknown='ignore', sparse_output=False))\n",
        "            ])\n",
        "            transformers.append(('cat', categorical_transformer, categorical_cols))\n",
        "\n",
        "        self.preprocessor = ColumnTransformer(transformers=transformers)\n",
        "\n",
        "        self.X = self.preprocessor.fit_transform(self.features)\n",
        "\n",
        "    def _train_test_split(self, test_size, random_state): # has problem if test_size > 0\n",
        "        from sklearn.model_selection import train_test_split\n",
        "\n",
        "        indices = np.arange(len(self.X))\n",
        "        train_indices, test_indices = train_test_split(\n",
        "            indices, test_size=test_size, train_size=(1-test_size), random_state=random_state\n",
        "        )\n",
        "        self.train_indices = train_indices\n",
        "        self.test_indices = test_indices\n",
        "\n",
        "    def get_feature_names(self):\n",
        "        if hasattr(self, 'preprocessor'):\n",
        "            return self.preprocessor.get_feature_names_out()\n",
        "        return self.features.columns.tolist()\n",
        "\n",
        "    def get_test_dataset(self):\n",
        "        if not hasattr(self, 'test_indices'):\n",
        "            raise ValueError(\"No test indices available. Create dataset with test_size > 0\")\n",
        "\n",
        "        test_dataset = FlightWeatherDatasetSplit(\n",
        "            self.X[self.test_indices],\n",
        "            self.targets[self.test_indices],\n",
        "            transform=self.transform\n",
        "        )\n",
        "        return test_dataset\n",
        "\n",
        "    def get_train_dataset(self):\n",
        "            \"\"\"Get a training dataset using the train indices.\"\"\"\n",
        "            if not hasattr(self, 'train_indices'):\n",
        "                raise ValueError(\"No train indices available. Create dataset with test_size > 0\")\n",
        "\n",
        "            train_dataset = FlightWeatherDatasetSplit(\n",
        "                self.X[self.train_indices],\n",
        "                self.targets[self.train_indices],\n",
        "                transform=self.transform\n",
        "            )\n",
        "            return train_dataset\n",
        "\n",
        "    def __len__(self):\n",
        "        return len(self.X)\n",
        "\n",
        "    def __getitem__(self, idx):\n",
        "            X = torch.FloatTensor(self.X[idx])\n",
        "            y = torch.FloatTensor([self.targets[idx]])\n",
        "\n",
        "            if self.transform:\n",
        "                X = self.transform(X)\n",
        "\n",
        "            return X, y"
      ]
    },
    {
      "cell_type": "code",
      "execution_count": null,
      "metadata": {
        "id": "kjHDGNmtQbce"
      },
      "outputs": [],
      "source": [
        "class FlightWeatherDatasetSplit(Dataset):\n",
        "    \"\"\"Helper class for train/test splits of the main dataset.\"\"\"\n",
        "\n",
        "    def __init__(self, features, targets, transform=None):\n",
        "        self.features = features\n",
        "        self.targets = targets\n",
        "        self.transform = transform\n",
        "\n",
        "    def __len__(self):\n",
        "        return len(self.features)\n",
        "\n",
        "    def __getitem__(self, idx):\n",
        "        X = torch.FloatTensor(self.features[idx])\n",
        "        y = torch.FloatTensor([self.targets[idx]])\n",
        "\n",
        "        if self.transform:\n",
        "            X = self.transform(X)\n",
        "\n",
        "        return X, y\n"
      ]
    },
    {
      "cell_type": "code",
      "execution_count": null,
      "metadata": {
        "colab": {
          "base_uri": "https://localhost:8080/"
        },
        "id": "mKazzzpbQbce",
        "outputId": "f483ba0d-b9c3-44ed-a9dd-8074e9a6d140"
      },
      "outputs": [
        {
          "output_type": "stream",
          "name": "stdout",
          "text": [
            "csv size:30263 and 8782\n",
            "csv size post datetime preprocess:30263 and 8782\n"
          ]
        }
      ],
      "source": [
        "flight_path = '2016.csv'\n",
        "weather_path = '2016_weather.csv'\n",
        "\n",
        "dataset = CustomFlightDataset(\n",
        "    flight_csv=flight_path,\n",
        "    weather_csv=weather_path,\n",
        "    test_size=0.1\n",
        ")\n",
        "\n"
      ]
    },
    {
      "cell_type": "code",
      "execution_count": null,
      "metadata": {
        "id": "tkHTewe3Qbce"
      },
      "outputs": [],
      "source": [
        "train_dataset = dataset.get_train_dataset()\n",
        "test_dataset = dataset.get_test_dataset()\n"
      ]
    },
    {
      "cell_type": "code",
      "execution_count": null,
      "metadata": {
        "colab": {
          "base_uri": "https://localhost:8080/"
        },
        "id": "-Sipl3aAQbce",
        "outputId": "6ba3ad9f-908f-4ca1-9924-82b4d9aa25e5"
      },
      "outputs": [
        {
          "output_type": "stream",
          "name": "stdout",
          "text": [
            "Training set: 27236 samples\n",
            "Test set: 3027 samples\n"
          ]
        }
      ],
      "source": [
        "print(f\"Training set: {len(train_dataset)} samples\")\n",
        "print(f\"Test set: {len(test_dataset)} samples\")\n",
        "# print(dataset.data.head())"
      ]
    },
    {
      "cell_type": "code",
      "execution_count": null,
      "metadata": {
        "id": "ZkseXMRHQbce"
      },
      "outputs": [],
      "source": [
        "batch_size=16\n",
        "generator = torch.Generator(device=device)\n",
        "train_loader = DataLoader(\n",
        "    train_dataset,\n",
        "    batch_size=batch_size,\n",
        "    shuffle=True,\n",
        "    generator = torch.Generator(device='cpu')\n",
        ")\n",
        "\n",
        "test_loader = DataLoader(\n",
        "    test_dataset,\n",
        "    batch_size=batch_size,\n",
        "    shuffle=False,\n",
        "    generator = torch.Generator(device='cpu')\n",
        ")"
      ]
    },
    {
      "cell_type": "markdown",
      "metadata": {
        "id": "WHHNBG1gQbce"
      },
      "source": [
        "# Prediction (LSTM)"
      ]
    },
    {
      "cell_type": "code",
      "execution_count": null,
      "metadata": {
        "id": "oJn-od3bQbce"
      },
      "outputs": [],
      "source": [
        "class FlightLSTM(nn.Module):\n",
        "    def __init__(self, input_size, hidden_size=64, num_layers=4, dropout=0.2):\n",
        "        super(FlightLSTM, self).__init__()\n",
        "\n",
        "        self.lstm  = nn.LSTM(\n",
        "            input_size = input_size,\n",
        "            hidden_size = hidden_size,\n",
        "            num_layers = num_layers,\n",
        "            dropout = dropout if num_layers > 1 else 0\n",
        "        )\n",
        "\n",
        "        self.fc = nn.Sequential(\n",
        "            nn.Linear(hidden_size, 32),\n",
        "            nn.ReLU(),\n",
        "            nn.Dropout(dropout),\n",
        "            nn.Linear(32, 1)\n",
        "        )\n",
        "\n",
        "    def forward(self, x):\n",
        "        batch_size = x.size(0)\n",
        "        x = x.view(batch_size, 1, -1)\n",
        "        lstm_out, _ = self.lstm(x)\n",
        "        lstm_out = lstm_out[:,-1,:]\n",
        "        output = self.fc(lstm_out)\n",
        "        return output"
      ]
    },
    {
      "cell_type": "code",
      "execution_count": null,
      "metadata": {
        "id": "zsr23SwcQbce"
      },
      "outputs": [],
      "source": [
        "class SequenceWrapper(nn.Module):\n",
        "    \"\"\"\n",
        "    Wrapper to reshape inputs for sequence models when using non-sequential datasets.\n",
        "    Allows using the same dataset class with different model architectures.\n",
        "    \"\"\"\n",
        "    def __init__(self, model):\n",
        "        super(SequenceWrapper, self).__init__()\n",
        "        self.model = model\n",
        "\n",
        "    def forward(self, x):\n",
        "        return self.model(x)"
      ]
    },
    {
      "cell_type": "code",
      "execution_count": null,
      "metadata": {
        "id": "2oJ4VwtkQbcf"
      },
      "outputs": [],
      "source": [
        "def train_lstm_model(model, train_loader, test_loader, input_size, device='cuda'):\n",
        "    \"\"\"Train an LSTM model for flight delay prediction.\"\"\"\n",
        "\n",
        "\n",
        "    # Loss function and optimizer\n",
        "    criterion = nn.L1Loss()\n",
        "    optimizer = optim.Adam(model.parameters(), lr=0.001, weight_decay=1e-5)\n",
        "    scheduler = optim.lr_scheduler.ReduceLROnPlateau(optimizer, 'min', patience=5, factor=0.5, verbose=True)\n",
        "\n",
        "    # Training loop\n",
        "    num_epochs = 50\n",
        "    train_losses = []\n",
        "    val_losses = []\n",
        "    best_val_loss = float('inf')\n",
        "\n",
        "    for epoch in range(num_epochs):\n",
        "        # Training\n",
        "        model.train()\n",
        "        train_loss = 0.0\n",
        "\n",
        "        for inputs, targets in train_loader:\n",
        "            inputs, targets = inputs.to(device), targets.to(device)\n",
        "\n",
        "            # Forward pass\n",
        "            outputs = model(inputs)\n",
        "            loss = criterion(outputs, targets)\n",
        "\n",
        "            # Backward and optimize\n",
        "            optimizer.zero_grad()\n",
        "            loss.backward()\n",
        "            # Gradient clipping to prevent exploding gradients\n",
        "            # nn.utils.clip_grad_norm_(model.parameters(), max_norm=1.0)\n",
        "            optimizer.step()\n",
        "\n",
        "            train_loss += loss.item()\n",
        "\n",
        "        train_loss /= len(train_loader)\n",
        "        train_losses.append(train_loss)\n",
        "\n",
        "        # Validation\n",
        "        model.eval()\n",
        "        val_loss = 0.0\n",
        "\n",
        "        with torch.no_grad():\n",
        "            for inputs, targets in test_loader:\n",
        "                inputs, targets = inputs.to(device), targets.to(device)\n",
        "                outputs = model(inputs)\n",
        "                loss = criterion(outputs, targets)\n",
        "                val_loss += loss.item()\n",
        "\n",
        "        val_loss /= len(test_loader)\n",
        "        val_losses.append(val_loss)\n",
        "\n",
        "        # Learning rate scheduler step\n",
        "        scheduler.step(val_loss)\n",
        "\n",
        "        # Save best model\n",
        "        if val_loss < best_val_loss:\n",
        "            best_val_loss = val_loss\n",
        "            torch.save(model.state_dict(), 'best_lstm_model.pth')\n",
        "\n",
        "        # Print progress\n",
        "        if (epoch + 1) % 5 == 0:\n",
        "            print(f\"Epoch {epoch+1}/{num_epochs}, Train Loss: {train_loss:.4f}, Val Loss: {val_loss:.4f}\")\n",
        "\n",
        "    # Load best model\n",
        "    model.load_state_dict(torch.load('best_lstm_model.pth'))\n",
        "\n",
        "    return model, train_losses, val_losses"
      ]
    },
    {
      "cell_type": "code",
      "execution_count": null,
      "metadata": {
        "colab": {
          "base_uri": "https://localhost:8080/"
        },
        "id": "MyR8DwnpQbcf",
        "outputId": "10e89260-a92b-4b86-e1f1-75003ce6f449"
      },
      "outputs": [
        {
          "output_type": "stream",
          "name": "stdout",
          "text": [
            "cuda\n",
            "Epoch 5/50, Train Loss: 16.6794, Val Loss: 17.5334\n",
            "Epoch 10/50, Train Loss: 16.3717, Val Loss: 17.2949\n",
            "Epoch 15/50, Train Loss: 16.2948, Val Loss: 17.0000\n",
            "Epoch 20/50, Train Loss: 16.0360, Val Loss: 16.8545\n",
            "Epoch 25/50, Train Loss: 15.9959, Val Loss: 16.6687\n",
            "Epoch 30/50, Train Loss: 15.8550, Val Loss: 16.7768\n",
            "Epoch 35/50, Train Loss: 15.7685, Val Loss: 16.5930\n",
            "Epoch 40/50, Train Loss: 15.6940, Val Loss: 16.4881\n",
            "Epoch 45/50, Train Loss: 15.6094, Val Loss: 16.4112\n",
            "Epoch 50/50, Train Loss: 15.5470, Val Loss: 16.3162\n"
          ]
        },
        {
          "output_type": "execute_result",
          "data": {
            "text/plain": [
              "(SequenceWrapper(\n",
              "   (model): FlightLSTM(\n",
              "     (lstm): LSTM(50, 64, num_layers=4, dropout=0.2)\n",
              "     (fc): Sequential(\n",
              "       (0): Linear(in_features=64, out_features=32, bias=True)\n",
              "       (1): ReLU()\n",
              "       (2): Dropout(p=0.2, inplace=False)\n",
              "       (3): Linear(in_features=32, out_features=1, bias=True)\n",
              "     )\n",
              "   )\n",
              " ),\n",
              " [17.23934085188511,\n",
              "  17.022237215613313,\n",
              "  16.881450234898665,\n",
              "  16.757305781279882,\n",
              "  16.679387454208175,\n",
              "  16.607128164170422,\n",
              "  16.544118049210546,\n",
              "  16.472457499064493,\n",
              "  16.42836494090203,\n",
              "  16.371676770505385,\n",
              "  16.302495386764292,\n",
              "  16.326385888084552,\n",
              "  16.324466952700792,\n",
              "  16.268774888267675,\n",
              "  16.294837417843336,\n",
              "  16.188142911448452,\n",
              "  16.20836561368762,\n",
              "  16.140408075212804,\n",
              "  16.09356302201433,\n",
              "  16.03596151974085,\n",
              "  16.096213224139973,\n",
              "  16.02602088388386,\n",
              "  16.072643792286243,\n",
              "  16.04049771824656,\n",
              "  15.99588789340684,\n",
              "  15.978864972058004,\n",
              "  15.955506279548336,\n",
              "  15.926441102327491,\n",
              "  15.92212763269439,\n",
              "  15.854999752235077,\n",
              "  15.930708716423878,\n",
              "  15.870113663930999,\n",
              "  15.816451883708037,\n",
              "  15.79716663282196,\n",
              "  15.768466092667996,\n",
              "  15.761075109995888,\n",
              "  15.698892379815062,\n",
              "  15.6762479359587,\n",
              "  15.708620304089747,\n",
              "  15.69400618318523,\n",
              "  15.678118849108657,\n",
              "  15.670532044283586,\n",
              "  15.663450522207192,\n",
              "  15.599118197307261,\n",
              "  15.609356160592277,\n",
              "  15.574261013368124,\n",
              "  15.606414944230986,\n",
              "  15.562795318999994,\n",
              "  15.594582470318743,\n",
              "  15.547038610654933],\n",
              " [18.014007393937362,\n",
              "  17.83480949276372,\n",
              "  17.597641023836637,\n",
              "  17.44848457888553,\n",
              "  17.533397215291075,\n",
              "  17.428067503477397,\n",
              "  17.222674875510368,\n",
              "  17.236600587242528,\n",
              "  17.26884909429048,\n",
              "  17.294939169130828,\n",
              "  17.069584899199636,\n",
              "  17.118002149933265,\n",
              "  16.906580725469087,\n",
              "  17.0261633697309,\n",
              "  17.000034607084174,\n",
              "  16.929255490554006,\n",
              "  17.117090693273042,\n",
              "  16.900839111679478,\n",
              "  16.824205862848384,\n",
              "  16.854520605739793,\n",
              "  16.71099895552585,\n",
              "  16.89714546705547,\n",
              "  16.824185862039265,\n",
              "  16.77596807605342,\n",
              "  16.668741290192855,\n",
              "  16.651301410323693,\n",
              "  16.734792026720548,\n",
              "  16.756552698737696,\n",
              "  16.51894300987846,\n",
              "  16.77680364909925,\n",
              "  16.521972001226324,\n",
              "  16.447726109153347,\n",
              "  16.56362538212224,\n",
              "  16.582478933585318,\n",
              "  16.593039561572827,\n",
              "  16.61540818841834,\n",
              "  16.456666434438606,\n",
              "  16.322309795178864,\n",
              "  16.493346806576376,\n",
              "  16.488076694388138,\n",
              "  16.464633077069333,\n",
              "  16.29162945621892,\n",
              "  16.42697178188123,\n",
              "  16.35237523129112,\n",
              "  16.411181476241662,\n",
              "  16.43830619862205,\n",
              "  16.302711025037265,\n",
              "  16.263720335458455,\n",
              "  16.26532687262485,\n",
              "  16.31621819169898])"
            ]
          },
          "metadata": {},
          "execution_count": 61
        }
      ],
      "source": [
        "input_size = dataset.X.shape[1]\n",
        "model = FlightLSTM(input_size=input_size)\n",
        "model.to(device)\n",
        "model = SequenceWrapper(model).to(device)\n",
        "print(device)\n",
        "train_lstm_model(model, train_loader=train_loader, test_loader=test_loader, input_size=input_size, device=device)"
      ]
    },
    {
      "cell_type": "code",
      "source": [
        "pretrained_model_weight = 'best_lstm_model.pth'\n",
        "model = FlightLSTM(input_size=input_size)\n",
        "model.load_state_dict(torch.load(pretrained_model_weight), strict=False)\n",
        "# model.eval()\n",
        "print(model)"
      ],
      "metadata": {
        "colab": {
          "base_uri": "https://localhost:8080/"
        },
        "id": "f1REN3GVXGdl",
        "outputId": "54685fba-9c0a-42ad-bb62-cac19446114f"
      },
      "execution_count": null,
      "outputs": [
        {
          "output_type": "stream",
          "name": "stdout",
          "text": [
            "FlightLSTM(\n",
            "  (lstm): LSTM(45, 64, num_layers=3, dropout=0.2)\n",
            "  (fc): Sequential(\n",
            "    (0): Linear(in_features=64, out_features=32, bias=True)\n",
            "    (1): ReLU()\n",
            "    (2): Dropout(p=0.2, inplace=False)\n",
            "    (3): Linear(in_features=32, out_features=1, bias=True)\n",
            "  )\n",
            ")\n"
          ]
        }
      ]
    },
    {
      "cell_type": "code",
      "execution_count": null,
      "metadata": {
        "colab": {
          "base_uri": "https://localhost:8080/"
        },
        "id": "UAOUvTaRQbcf",
        "outputId": "fbc866d7-4e9c-46dc-b845-4fff7d4cb3c3"
      },
      "outputs": [
        {
          "output_type": "stream",
          "name": "stdout",
          "text": [
            "csv size:29595 and 8759\n",
            "csv size post datetime preprocess:29595 and 8759\n",
            "cuda\n",
            "cuda\n"
          ]
        },
        {
          "output_type": "stream",
          "name": "stderr",
          "text": [
            "/usr/local/lib/python3.11/dist-packages/torch/optim/lr_scheduler.py:62: UserWarning: The verbose parameter is deprecated. Please use get_last_lr() to access the learning rate.\n",
            "  warnings.warn(\n"
          ]
        },
        {
          "output_type": "stream",
          "name": "stdout",
          "text": [
            "Epoch 5/50, Train Loss: 19.0541, Val Loss: 20.2711\n",
            "Epoch 10/50, Train Loss: 18.8430, Val Loss: 20.1224\n",
            "Epoch 15/50, Train Loss: 18.5561, Val Loss: 19.8313\n",
            "Epoch 20/50, Train Loss: 18.4888, Val Loss: 19.7717\n",
            "Epoch 25/50, Train Loss: 18.3721, Val Loss: 19.6787\n",
            "Epoch 30/50, Train Loss: 18.2598, Val Loss: 19.8483\n",
            "Epoch 35/50, Train Loss: 18.1586, Val Loss: 19.7694\n",
            "Epoch 40/50, Train Loss: 18.0742, Val Loss: 19.7421\n",
            "Epoch 45/50, Train Loss: 17.9954, Val Loss: 19.6681\n",
            "Epoch 50/50, Train Loss: 17.9841, Val Loss: 19.7168\n"
          ]
        },
        {
          "output_type": "execute_result",
          "data": {
            "text/plain": [
              "(SequenceWrapper(\n",
              "   (model): FlightLSTM(\n",
              "     (lstm): LSTM(45, 64, num_layers=3, dropout=0.2)\n",
              "     (fc): Sequential(\n",
              "       (0): Linear(in_features=64, out_features=32, bias=True)\n",
              "       (1): ReLU()\n",
              "       (2): Dropout(p=0.2, inplace=False)\n",
              "       (3): Linear(in_features=32, out_features=1, bias=True)\n",
              "     )\n",
              "   )\n",
              " ),\n",
              " [19.679994411605726,\n",
              "  19.414773495077227,\n",
              "  19.231923031292375,\n",
              "  19.158585520957015,\n",
              "  19.054139292783304,\n",
              "  19.02551162385826,\n",
              "  18.985413826912712,\n",
              "  18.887819636639932,\n",
              "  18.789009497891797,\n",
              "  18.843022600352334,\n",
              "  18.71691384704279,\n",
              "  18.702438252721187,\n",
              "  18.648185437245907,\n",
              "  18.640382460267137,\n",
              "  18.55609321822937,\n",
              "  18.579683154035244,\n",
              "  18.550264436278127,\n",
              "  18.500704251890845,\n",
              "  18.454314823059157,\n",
              "  18.488792700733214,\n",
              "  18.394588397275342,\n",
              "  18.419698779245646,\n",
              "  18.422118052018345,\n",
              "  18.351716129614008,\n",
              "  18.3721335774703,\n",
              "  18.29731387886212,\n",
              "  18.324016699116292,\n",
              "  18.331179241482303,\n",
              "  18.276580321131277,\n",
              "  18.259783549274474,\n",
              "  18.266343884044986,\n",
              "  18.157380140656763,\n",
              "  18.121123607781865,\n",
              "  18.122158153451604,\n",
              "  18.158608335956966,\n",
              "  18.124485222841624,\n",
              "  18.166081426240844,\n",
              "  18.128867240832577,\n",
              "  18.048799316945978,\n",
              "  18.074157408387254,\n",
              "  18.021784931063937,\n",
              "  18.09395225785619,\n",
              "  18.051606637968433,\n",
              "  18.088125384397074,\n",
              "  17.99543472674253,\n",
              "  18.037926513799945,\n",
              "  18.007167747552447,\n",
              "  17.96487220814474,\n",
              "  18.008692238256515,\n",
              "  17.984079254616937],\n",
              " [20.68596824686578,\n",
              "  20.524161298224268,\n",
              "  20.453970868536768,\n",
              "  20.392547932076962,\n",
              "  20.27105183297015,\n",
              "  20.230247568576893,\n",
              "  20.153295953223047,\n",
              "  20.101920117723182,\n",
              "  19.983740634106574,\n",
              "  20.122395160350393,\n",
              "  19.954476478252005,\n",
              "  19.845166206359863,\n",
              "  19.907166643345608,\n",
              "  19.897713509011776,\n",
              "  19.831292416187043,\n",
              "  19.85810186507854,\n",
              "  19.84104005326616,\n",
              "  19.853439960073917,\n",
              "  19.857468676059803,\n",
              "  19.771714007600824,\n",
              "  19.760247636348645,\n",
              "  19.77015032666795,\n",
              "  19.736641518613126,\n",
              "  19.72514400076359,\n",
              "  19.678656791118865,\n",
              "  19.7212098507171,\n",
              "  19.737949452501663,\n",
              "  19.822156956855288,\n",
              "  19.739321120241854,\n",
              "  19.848281474823647,\n",
              "  19.712890726454713,\n",
              "  19.700004334145405,\n",
              "  19.692107322368216,\n",
              "  19.695980376385627,\n",
              "  19.769418594685007,\n",
              "  19.72315885665569,\n",
              "  19.733920442297105,\n",
              "  19.725881069264513,\n",
              "  19.75515408211566,\n",
              "  19.742149089245085,\n",
              "  19.734355906222728,\n",
              "  19.72723514475721,\n",
              "  19.68412301895466,\n",
              "  19.667732847497817,\n",
              "  19.668118071048816,\n",
              "  19.68148604859697,\n",
              "  19.6832592740972,\n",
              "  19.692951263265407,\n",
              "  19.698909130502255,\n",
              "  19.71675647573268])"
            ]
          },
          "metadata": {},
          "execution_count": 40
        }
      ],
      "source": [
        "flight_path = '2017.csv'\n",
        "weather_path = '2017_weather.csv'\n",
        "\n",
        "dataset = CustomFlightDataset(\n",
        "    flight_csv=flight_path,\n",
        "    weather_csv=weather_path,\n",
        "    test_size=0.1\n",
        ")\n",
        "train_dataset = dataset.get_train_dataset()\n",
        "test_dataset = dataset.get_test_dataset()\n",
        "batch_size=64\n",
        "generator = torch.Generator(device=device)\n",
        "print(device)\n",
        "\n",
        "train_loader = DataLoader(\n",
        "    train_dataset,\n",
        "    batch_size=batch_size,\n",
        "    shuffle=True,\n",
        "    generator = torch.Generator(device='cpu')\n",
        ")\n",
        "\n",
        "test_loader = DataLoader(\n",
        "    test_dataset,\n",
        "    batch_size=batch_size,\n",
        "    shuffle=False,\n",
        "    generator = torch.Generator(device='cpu')\n",
        ")\n",
        "\n",
        "input_size = dataset.X.shape[1]\n",
        "print(device)\n",
        "train_lstm_model(model, train_loader=train_loader, test_loader=test_loader, input_size=input_size, device=device)"
      ]
    },
    {
      "cell_type": "markdown",
      "metadata": {
        "id": "q2RvHMoPQbcf"
      },
      "source": [
        "# Prediction (Pre-trained)"
      ]
    },
    {
      "cell_type": "code",
      "execution_count": null,
      "metadata": {
        "id": "IXaq8xT8Qbcf"
      },
      "outputs": [],
      "source": [
        "class PretrainedFlightModel(nn.Module):\n",
        "    def __init__(self, input_size, pretrained_weights=None):\n",
        "        super(PretrainedFlightModel, self).__init__()\n",
        "\n",
        "        # Encoder (would be pre-trained in a real scenario)\n",
        "        self.encoder = nn.Sequential(\n",
        "            nn.Linear(input_size, 256),\n",
        "            nn.BatchNorm1d(256),\n",
        "            nn.ReLU(),\n",
        "            nn.Dropout(0.3),\n",
        "            nn.Linear(256, 128),\n",
        "            nn.BatchNorm1d(128),\n",
        "            nn.ReLU(),\n",
        "        )\n",
        "\n",
        "        # Prediction head (to be fine-tuned)\n",
        "        self.prediction_head = nn.Sequential(\n",
        "            nn.Linear(128, 64),\n",
        "            nn.ReLU(),\n",
        "            nn.Dropout(0.2),\n",
        "            nn.Linear(64, 32),\n",
        "            nn.ReLU(),\n",
        "            nn.Linear(32, 1)\n",
        "        )\n",
        "\n",
        "        if pretrained_weights:\n",
        "            self.load_state_dict(torch.load(pretrained_weights))\n",
        "\n",
        "            for param in self.encoder.parameters():\n",
        "                param.requires_grad = False\n",
        "\n",
        "    def forward(self, x):\n",
        "        features = self.encoder(x)\n",
        "        output = self.prediction_head(features)\n",
        "        return output\n",
        "\n",
        "    def unfreeze_encoder(self):\n",
        "        for param in self.encoder.parameters():\n",
        "            param.requires_grad = True\n",
        "\n"
      ]
    },
    {
      "cell_type": "code",
      "execution_count": null,
      "metadata": {
        "id": "AxJDzgYuQbcf"
      },
      "outputs": [],
      "source": []
    },
    {
      "cell_type": "markdown",
      "metadata": {
        "id": "xLOOx0a-Qbcf"
      },
      "source": [
        "# Prediction (XGBoost)"
      ]
    },
    {
      "cell_type": "code",
      "execution_count": null,
      "metadata": {
        "id": "1MJ-Dm90Qbcf"
      },
      "outputs": [],
      "source": [
        "def train_xgboost_model(train_dataset, test_dataset):\n",
        "    X_train = train_dataset.features\n",
        "    y_train = train_dataset.targets\n",
        "\n",
        "    X_test = test_dataset.features\n",
        "    y_test = test_dataset.targets\n",
        "\n",
        "    # Define XGBoost parameters\n",
        "    params = {\n",
        "        'objective': 'reg:squarederror',\n",
        "        'learning_rate': 0.05,\n",
        "        'max_depth': 6,\n",
        "        'min_child_weight': 1,\n",
        "        'subsample': 0.8,\n",
        "        'colsample_bytree': 0.8,\n",
        "        'gamma': 0,\n",
        "        'reg_alpha': 0.1,\n",
        "        'reg_lambda': 1.0,\n",
        "        'eval_metric': 'rmse',\n",
        "        'seed': 42\n",
        "    }\n",
        "\n",
        "    # Create DMatrix for XGBoost\n",
        "    dtrain = xgb.DMatrix(X_train, label=y_train)\n",
        "    dtest = xgb.DMatrix(X_test, label=y_test)\n",
        "\n",
        "    # Define watchlist for evaluation\n",
        "    watchlist = [(dtrain, 'train'), (dtest, 'eval')]\n",
        "\n",
        "    # Train model\n",
        "    print(\"Training XGBoost model...\")\n",
        "    xgb_model = xgb.train(\n",
        "        params=params,\n",
        "        dtrain=dtrain,\n",
        "        num_boost_round=200,\n",
        "        evals=watchlist,\n",
        "        early_stopping_rounds=20,\n",
        "        verbose_eval=10\n",
        "    )\n",
        "\n",
        "    # Save model\n",
        "    xgb_model.save_model('flight_delay_xgboost.model')\n",
        "\n",
        "    # Make predictions\n",
        "    y_pred = xgb_model.predict(dtest)\n",
        "\n",
        "    # Calculate metrics\n",
        "    mse = mean_squared_error(y_test, y_pred)\n",
        "    rmse = np.sqrt(mse)\n",
        "    mae = mean_absolute_error(y_test, y_pred)\n",
        "\n",
        "    print(f\"XGBoost Test Metrics:\")\n",
        "    print(f\"MSE: {mse:.4f}\")\n",
        "    print(f\"RMSE: {rmse:.4f}\")\n",
        "    print(f\"MAE: {mae:.4f}\")\n",
        "\n",
        "    # Feature importance plot\n",
        "    plt.figure(figsize=(10, 6))\n",
        "    xgb.plot_importance(xgb_model, max_num_features=15)\n",
        "    plt.title('XGBoost Feature Importance')\n",
        "    plt.tight_layout()\n",
        "    plt.savefig('xgboost_feature_importance.png')\n",
        "\n",
        "    return xgb_model, y_pred, y_test\n",
        "\n",
        "\n"
      ]
    },
    {
      "cell_type": "code",
      "execution_count": null,
      "metadata": {
        "colab": {
          "base_uri": "https://localhost:8080/",
          "height": 1000
        },
        "id": "wT5eAxx5Qbcf",
        "outputId": "7f129ffc-c241-4f51-9cc2-cebe80d1f342"
      },
      "outputs": [
        {
          "output_type": "stream",
          "name": "stdout",
          "text": [
            "Training XGBoost model...\n",
            "[0]\ttrain-rmse:47.97876\teval-rmse:52.44611\n",
            "[10]\ttrain-rmse:44.05037\teval-rmse:49.19502\n",
            "[20]\ttrain-rmse:41.92346\teval-rmse:47.83315\n",
            "[30]\ttrain-rmse:40.54921\teval-rmse:46.95268\n",
            "[40]\ttrain-rmse:39.45550\teval-rmse:46.51398\n",
            "[50]\ttrain-rmse:38.75075\teval-rmse:46.31566\n",
            "[60]\ttrain-rmse:38.19038\teval-rmse:46.16042\n",
            "[70]\ttrain-rmse:37.61251\teval-rmse:46.05283\n",
            "[80]\ttrain-rmse:37.21775\teval-rmse:45.99297\n",
            "[90]\ttrain-rmse:36.82624\teval-rmse:45.92703\n",
            "[100]\ttrain-rmse:36.55884\teval-rmse:45.86274\n",
            "[110]\ttrain-rmse:36.22722\teval-rmse:45.78983\n",
            "[120]\ttrain-rmse:35.94384\teval-rmse:45.78190\n",
            "[130]\ttrain-rmse:35.68104\teval-rmse:45.76696\n",
            "[140]\ttrain-rmse:35.43482\teval-rmse:45.67641\n",
            "[150]\ttrain-rmse:35.20215\teval-rmse:45.66551\n",
            "[160]\ttrain-rmse:34.97546\teval-rmse:45.65189\n",
            "[170]\ttrain-rmse:34.77322\teval-rmse:45.60518\n",
            "[180]\ttrain-rmse:34.57905\teval-rmse:45.59449\n",
            "[190]\ttrain-rmse:34.43222\teval-rmse:45.58965\n",
            "[199]\ttrain-rmse:34.26847\teval-rmse:45.62218\n",
            "XGBoost Test Metrics:\n",
            "MSE: 2081.3835\n",
            "RMSE: 45.6222\n",
            "MAE: 19.0146\n"
          ]
        },
        {
          "output_type": "stream",
          "name": "stderr",
          "text": [
            "/usr/local/lib/python3.11/dist-packages/xgboost/core.py:158: UserWarning: [01:54:08] WARNING: /workspace/src/c_api/c_api.cc:1374: Saving model in the UBJSON format as default.  You can use file extension: `json`, `ubj` or `deprecated` to choose between formats.\n",
            "  warnings.warn(smsg, UserWarning)\n"
          ]
        },
        {
          "output_type": "execute_result",
          "data": {
            "text/plain": [
              "(<xgboost.core.Booster at 0x7df495e8c710>,\n",
              " array([17.093748  , -0.14159337, 15.5651655 , ...,  3.2336142 ,\n",
              "         4.543663  ,  7.633533  ], dtype=float32),\n",
              " array([-1., -4., 26., ..., -7.,  6., -3.]))"
            ]
          },
          "metadata": {},
          "execution_count": 36
        },
        {
          "output_type": "display_data",
          "data": {
            "text/plain": [
              "<Figure size 1000x600 with 0 Axes>"
            ]
          },
          "metadata": {}
        },
        {
          "output_type": "display_data",
          "data": {
            "text/plain": [
              "<Figure size 640x480 with 1 Axes>"
            ],
            "image/png": "[encoded data removed]"
          },
          "metadata": {}
        }
      ],
      "source": [
        "train_xgboost_model(train_dataset, test_dataset)"
      ]
    }
  ],
  "metadata": {
    "kernelspec": {
      "display_name": "Python 3",
      "name": "python3"
    },
    "language_info": {
      "codemirror_mode": {
        "name": "ipython",
        "version": 3
      },
      "file_extension": ".py",
      "mimetype": "text/x-python",
      "name": "python",
      "nbconvert_exporter": "python",
      "pygments_lexer": "ipython3",
      "version": "3.12.4"
    },
    "colab": {
      "provenance": [],
      "gpuType": "T4"
    },
    "accelerator": "GPU"
  },
  "nbformat": 4,
  "nbformat_minor": 0
}